{
  "nbformat": 4,
  "nbformat_minor": 0,
  "metadata": {
    "colab": {
      "name": "Breast Cancer_SVM.ipynb",
      "provenance": [],
      "authorship_tag": "ABX9TyPCl9f8RAktKxJRIzzKblBo",
      "include_colab_link": true
    },
    "kernelspec": {
      "name": "python3",
      "display_name": "Python 3"
    },
    "language_info": {
      "name": "python"
    }
  },
  "cells": [
    {
      "cell_type": "markdown",
      "metadata": {
        "id": "view-in-github",
        "colab_type": "text"
      },
      "source": [
        "<a href=\"https://colab.research.google.com/github/Shreya-chhabra/Datasciencecoursera/blob/Shreya-chhabra-patch-1/Breast_Cancer_SVM.ipynb\" target=\"_parent\"><img src=\"https://colab.research.google.com/assets/colab-badge.svg\" alt=\"Open In Colab\"/></a>"
      ]
    },
    {
      "cell_type": "code",
      "metadata": {
        "colab": {
          "base_uri": "https://localhost:8080/"
        },
        "id": "l4QzxFP9sOGR",
        "outputId": "4972cf05-4db5-4f1d-d8ce-4fce2c2afc33"
      },
      "source": [
        "from google.colab import drive\n",
        "drive.mount('/content/drive')"
      ],
      "execution_count": 1,
      "outputs": [
        {
          "output_type": "stream",
          "text": [
            "Mounted at /content/drive\n"
          ],
          "name": "stdout"
        }
      ]
    },
    {
      "cell_type": "code",
      "metadata": {
        "colab": {
          "base_uri": "https://localhost:8080/"
        },
        "id": "qzF3JBbqsRIe",
        "outputId": "00adb9e3-cbcf-40d0-b973-df84ea394cad"
      },
      "source": [
        "%cd '/content/drive/MyDrive'"
      ],
      "execution_count": 2,
      "outputs": [
        {
          "output_type": "stream",
          "text": [
            "/content/drive/MyDrive\n"
          ],
          "name": "stdout"
        }
      ]
    },
    {
      "cell_type": "code",
      "metadata": {
        "colab": {
          "base_uri": "https://localhost:8080/"
        },
        "id": "dqOd26iesd0R",
        "outputId": "38382fe5-9bfe-4cac-c50e-0b7ad70dabe7"
      },
      "source": [
        "!ls"
      ],
      "execution_count": 3,
      "outputs": [
        {
          "output_type": "stream",
          "text": [
            " 20141017_182005.jpg   Gopa.pdf\n",
            " 31052008212.jpg      'Low Back Exercises Program.pdf'\n",
            "'Cancer Data.xls'     'Shreya Chhabra- BOA.docx'\n",
            "'Colab Notebooks'     'Shreya Chhabra CV.pdf'\n",
            " DSC08029.JPG\t      'Shreya EC.pdf'\n",
            " Final.rar\t      'uzr-bumt-ykg – 19 Jan 2021.gjam'\n",
            " Gopa.gdoc\n"
          ],
          "name": "stdout"
        }
      ]
    },
    {
      "cell_type": "code",
      "metadata": {
        "id": "6rXs8VwSsgEo"
      },
      "source": [
        "import pandas as pd \n",
        "import numpy as np\n",
        "import seaborn as sn # visualization library based on matplotlib\n",
        "import matplotlib.pylab as plt\n",
        "\n",
        "#the output of plotting commands is displayed inline within Jupyter notebook\n",
        "%matplotlib inline "
      ],
      "execution_count": 4,
      "outputs": []
    },
    {
      "cell_type": "code",
      "metadata": {
        "colab": {
          "base_uri": "https://localhost:8080/",
          "height": 241
        },
        "id": "dUhlAIFGslsE",
        "outputId": "48de8a59-6b0c-4217-f6f5-0185bfb5f36c"
      },
      "source": [
        "raw_df = pd.read_excel('Cancer Data.xls')\n",
        "raw_df.columns = raw_df.columns.str.lower().str.replace(' ', '_')\n",
        "raw_df.head()"
      ],
      "execution_count": 5,
      "outputs": [
        {
          "output_type": "execute_result",
          "data": {
            "text/html": [
              "<div>\n",
              "<style scoped>\n",
              "    .dataframe tbody tr th:only-of-type {\n",
              "        vertical-align: middle;\n",
              "    }\n",
              "\n",
              "    .dataframe tbody tr th {\n",
              "        vertical-align: top;\n",
              "    }\n",
              "\n",
              "    .dataframe thead th {\n",
              "        text-align: right;\n",
              "    }\n",
              "</style>\n",
              "<table border=\"1\" class=\"dataframe\">\n",
              "  <thead>\n",
              "    <tr style=\"text-align: right;\">\n",
              "      <th></th>\n",
              "      <th>id</th>\n",
              "      <th>b-m</th>\n",
              "      <th>radius</th>\n",
              "      <th>texture</th>\n",
              "      <th>perimeter</th>\n",
              "      <th>area</th>\n",
              "      <th>smoothness</th>\n",
              "      <th>compactness</th>\n",
              "      <th>concavity</th>\n",
              "      <th>concave_points</th>\n",
              "      <th>symmetry</th>\n",
              "      <th>fractal_dimension</th>\n",
              "      <th>se-radius</th>\n",
              "      <th>texture-se</th>\n",
              "      <th>perimeter-se</th>\n",
              "      <th>area-se</th>\n",
              "      <th>smoothness-se</th>\n",
              "      <th>compactness-se</th>\n",
              "      <th>concavity-se</th>\n",
              "      <th>concave_points-se</th>\n",
              "      <th>symmetry-se</th>\n",
              "      <th>fractal_dimension-se</th>\n",
              "      <th>radius-w</th>\n",
              "      <th>texture-w</th>\n",
              "      <th>perimeter-w</th>\n",
              "      <th>area-w</th>\n",
              "      <th>smoothness-w</th>\n",
              "      <th>compactness-w</th>\n",
              "      <th>concavity-w</th>\n",
              "      <th>concave_points-w</th>\n",
              "      <th>symmetry-w</th>\n",
              "      <th>fractal_dimension-w</th>\n",
              "    </tr>\n",
              "  </thead>\n",
              "  <tbody>\n",
              "    <tr>\n",
              "      <th>0</th>\n",
              "      <td>842302</td>\n",
              "      <td>M</td>\n",
              "      <td>17.99</td>\n",
              "      <td>10.38</td>\n",
              "      <td>122.80</td>\n",
              "      <td>1001.0</td>\n",
              "      <td>0.11840</td>\n",
              "      <td>0.27760</td>\n",
              "      <td>0.3001</td>\n",
              "      <td>0.14710</td>\n",
              "      <td>0.2419</td>\n",
              "      <td>0.07871</td>\n",
              "      <td>1.0950</td>\n",
              "      <td>0.9053</td>\n",
              "      <td>8.589</td>\n",
              "      <td>153.40</td>\n",
              "      <td>0.006399</td>\n",
              "      <td>0.04904</td>\n",
              "      <td>0.05373</td>\n",
              "      <td>0.01587</td>\n",
              "      <td>0.03003</td>\n",
              "      <td>0.006193</td>\n",
              "      <td>25.38</td>\n",
              "      <td>17.33</td>\n",
              "      <td>184.60</td>\n",
              "      <td>2019.0</td>\n",
              "      <td>0.1622</td>\n",
              "      <td>0.6656</td>\n",
              "      <td>0.7119</td>\n",
              "      <td>0.2654</td>\n",
              "      <td>0.4601</td>\n",
              "      <td>0.11890</td>\n",
              "    </tr>\n",
              "    <tr>\n",
              "      <th>1</th>\n",
              "      <td>842517</td>\n",
              "      <td>M</td>\n",
              "      <td>20.57</td>\n",
              "      <td>17.77</td>\n",
              "      <td>132.90</td>\n",
              "      <td>1326.0</td>\n",
              "      <td>0.08474</td>\n",
              "      <td>0.07864</td>\n",
              "      <td>0.0869</td>\n",
              "      <td>0.07017</td>\n",
              "      <td>0.1812</td>\n",
              "      <td>0.05667</td>\n",
              "      <td>0.5435</td>\n",
              "      <td>0.7339</td>\n",
              "      <td>3.398</td>\n",
              "      <td>74.08</td>\n",
              "      <td>0.005225</td>\n",
              "      <td>0.01308</td>\n",
              "      <td>0.01860</td>\n",
              "      <td>0.01340</td>\n",
              "      <td>0.01389</td>\n",
              "      <td>0.003532</td>\n",
              "      <td>24.99</td>\n",
              "      <td>23.41</td>\n",
              "      <td>158.80</td>\n",
              "      <td>1956.0</td>\n",
              "      <td>0.1238</td>\n",
              "      <td>0.1866</td>\n",
              "      <td>0.2416</td>\n",
              "      <td>0.1860</td>\n",
              "      <td>0.2750</td>\n",
              "      <td>0.08902</td>\n",
              "    </tr>\n",
              "    <tr>\n",
              "      <th>2</th>\n",
              "      <td>84300903</td>\n",
              "      <td>M</td>\n",
              "      <td>19.69</td>\n",
              "      <td>21.25</td>\n",
              "      <td>130.00</td>\n",
              "      <td>1203.0</td>\n",
              "      <td>0.10960</td>\n",
              "      <td>0.15990</td>\n",
              "      <td>0.1974</td>\n",
              "      <td>0.12790</td>\n",
              "      <td>0.2069</td>\n",
              "      <td>0.05999</td>\n",
              "      <td>0.7456</td>\n",
              "      <td>0.7869</td>\n",
              "      <td>4.585</td>\n",
              "      <td>94.03</td>\n",
              "      <td>0.006150</td>\n",
              "      <td>0.04006</td>\n",
              "      <td>0.03832</td>\n",
              "      <td>0.02058</td>\n",
              "      <td>0.02250</td>\n",
              "      <td>0.004571</td>\n",
              "      <td>23.57</td>\n",
              "      <td>25.53</td>\n",
              "      <td>152.50</td>\n",
              "      <td>1709.0</td>\n",
              "      <td>0.1444</td>\n",
              "      <td>0.4245</td>\n",
              "      <td>0.4504</td>\n",
              "      <td>0.2430</td>\n",
              "      <td>0.3613</td>\n",
              "      <td>0.08758</td>\n",
              "    </tr>\n",
              "    <tr>\n",
              "      <th>3</th>\n",
              "      <td>84348301</td>\n",
              "      <td>M</td>\n",
              "      <td>11.42</td>\n",
              "      <td>20.38</td>\n",
              "      <td>77.58</td>\n",
              "      <td>386.1</td>\n",
              "      <td>0.14250</td>\n",
              "      <td>0.28390</td>\n",
              "      <td>0.2414</td>\n",
              "      <td>0.10520</td>\n",
              "      <td>0.2597</td>\n",
              "      <td>0.09744</td>\n",
              "      <td>0.4956</td>\n",
              "      <td>1.1560</td>\n",
              "      <td>3.445</td>\n",
              "      <td>27.23</td>\n",
              "      <td>0.009110</td>\n",
              "      <td>0.07458</td>\n",
              "      <td>0.05661</td>\n",
              "      <td>0.01867</td>\n",
              "      <td>0.05963</td>\n",
              "      <td>0.009208</td>\n",
              "      <td>14.91</td>\n",
              "      <td>26.50</td>\n",
              "      <td>98.87</td>\n",
              "      <td>567.7</td>\n",
              "      <td>0.2098</td>\n",
              "      <td>0.8663</td>\n",
              "      <td>0.6869</td>\n",
              "      <td>0.2575</td>\n",
              "      <td>0.6638</td>\n",
              "      <td>0.17300</td>\n",
              "    </tr>\n",
              "    <tr>\n",
              "      <th>4</th>\n",
              "      <td>84358402</td>\n",
              "      <td>M</td>\n",
              "      <td>20.29</td>\n",
              "      <td>14.34</td>\n",
              "      <td>135.10</td>\n",
              "      <td>1297.0</td>\n",
              "      <td>0.10030</td>\n",
              "      <td>0.13280</td>\n",
              "      <td>0.1980</td>\n",
              "      <td>0.10430</td>\n",
              "      <td>0.1809</td>\n",
              "      <td>0.05883</td>\n",
              "      <td>0.7572</td>\n",
              "      <td>0.7813</td>\n",
              "      <td>5.438</td>\n",
              "      <td>94.44</td>\n",
              "      <td>0.011490</td>\n",
              "      <td>0.02461</td>\n",
              "      <td>0.05688</td>\n",
              "      <td>0.01885</td>\n",
              "      <td>0.01756</td>\n",
              "      <td>0.005115</td>\n",
              "      <td>22.54</td>\n",
              "      <td>16.67</td>\n",
              "      <td>152.20</td>\n",
              "      <td>1575.0</td>\n",
              "      <td>0.1374</td>\n",
              "      <td>0.2050</td>\n",
              "      <td>0.4000</td>\n",
              "      <td>0.1625</td>\n",
              "      <td>0.2364</td>\n",
              "      <td>0.07678</td>\n",
              "    </tr>\n",
              "  </tbody>\n",
              "</table>\n",
              "</div>"
            ],
            "text/plain": [
              "         id b-m  radius  ...  concave_points-w  symmetry-w  fractal_dimension-w\n",
              "0    842302   M   17.99  ...            0.2654      0.4601              0.11890\n",
              "1    842517   M   20.57  ...            0.1860      0.2750              0.08902\n",
              "2  84300903   M   19.69  ...            0.2430      0.3613              0.08758\n",
              "3  84348301   M   11.42  ...            0.2575      0.6638              0.17300\n",
              "4  84358402   M   20.29  ...            0.1625      0.2364              0.07678\n",
              "\n",
              "[5 rows x 32 columns]"
            ]
          },
          "metadata": {
            "tags": []
          },
          "execution_count": 5
        }
      ]
    },
    {
      "cell_type": "code",
      "metadata": {
        "colab": {
          "base_uri": "https://localhost:8080/"
        },
        "id": "_h1NocD9soe2",
        "outputId": "0aa35d99-333d-41d2-db20-9f573433549b"
      },
      "source": [
        "## Converting y variable into numeric\n",
        "raw_df['b-m']=np.where(raw_df['b-m']=='M',1,0)\n",
        "raw_df['b-m'].value_counts()"
      ],
      "execution_count": 6,
      "outputs": [
        {
          "output_type": "execute_result",
          "data": {
            "text/plain": [
              "0    357\n",
              "1    212\n",
              "Name: b-m, dtype: int64"
            ]
          },
          "metadata": {
            "tags": []
          },
          "execution_count": 6
        }
      ]
    },
    {
      "cell_type": "code",
      "metadata": {
        "id": "uGsXtj0_sx63"
      },
      "source": [
        "X = raw_df.drop(['b-m'], axis=1)\n",
        "y = raw_df['b-m']"
      ],
      "execution_count": 34,
      "outputs": []
    },
    {
      "cell_type": "code",
      "metadata": {
        "id": "mRATox_cs19Y"
      },
      "source": [
        "from sklearn.model_selection import train_test_split\n",
        "\n",
        "# Split dataset into training set and test set\n",
        "X_train, X_test, y_train, y_test = train_test_split(X, y, test_size=0.2, random_state=1)"
      ],
      "execution_count": 9,
      "outputs": []
    },
    {
      "cell_type": "code",
      "metadata": {
        "colab": {
          "base_uri": "https://localhost:8080/"
        },
        "id": "2VVVlqPdtPHH",
        "outputId": "e2a5bc65-afd5-413a-aad6-32ab86283ba7"
      },
      "source": [
        "# Feature selection\n",
        "from sklearn.svm import LinearSVC\n",
        "from sklearn.feature_selection import RFE\n",
        "from sklearn import datasets\n",
        "#dataset = datasets.load_iris()\n",
        "svm = LinearSVC()\n",
        "# create the RFE model for the svm classifier \n",
        "# and select attributes\n",
        "rfe = RFE(svm, 3)\n",
        "rfe = rfe.fit(X_train, y_train)\n",
        "# print summaries for the selection of attributes\n",
        "print(rfe.support_)\n",
        "print(rfe.ranking_)"
      ],
      "execution_count": 11,
      "outputs": [
        {
          "output_type": "stream",
          "text": [
            "/usr/local/lib/python3.7/dist-packages/sklearn/svm/_base.py:947: ConvergenceWarning: Liblinear failed to converge, increase the number of iterations.\n",
            "  \"the number of iterations.\", ConvergenceWarning)\n",
            "/usr/local/lib/python3.7/dist-packages/sklearn/svm/_base.py:947: ConvergenceWarning: Liblinear failed to converge, increase the number of iterations.\n",
            "  \"the number of iterations.\", ConvergenceWarning)\n",
            "/usr/local/lib/python3.7/dist-packages/sklearn/svm/_base.py:947: ConvergenceWarning: Liblinear failed to converge, increase the number of iterations.\n",
            "  \"the number of iterations.\", ConvergenceWarning)\n",
            "/usr/local/lib/python3.7/dist-packages/sklearn/svm/_base.py:947: ConvergenceWarning: Liblinear failed to converge, increase the number of iterations.\n",
            "  \"the number of iterations.\", ConvergenceWarning)\n",
            "/usr/local/lib/python3.7/dist-packages/sklearn/svm/_base.py:947: ConvergenceWarning: Liblinear failed to converge, increase the number of iterations.\n",
            "  \"the number of iterations.\", ConvergenceWarning)\n",
            "/usr/local/lib/python3.7/dist-packages/sklearn/svm/_base.py:947: ConvergenceWarning: Liblinear failed to converge, increase the number of iterations.\n",
            "  \"the number of iterations.\", ConvergenceWarning)\n",
            "/usr/local/lib/python3.7/dist-packages/sklearn/svm/_base.py:947: ConvergenceWarning: Liblinear failed to converge, increase the number of iterations.\n",
            "  \"the number of iterations.\", ConvergenceWarning)\n",
            "/usr/local/lib/python3.7/dist-packages/sklearn/svm/_base.py:947: ConvergenceWarning: Liblinear failed to converge, increase the number of iterations.\n",
            "  \"the number of iterations.\", ConvergenceWarning)\n",
            "/usr/local/lib/python3.7/dist-packages/sklearn/svm/_base.py:947: ConvergenceWarning: Liblinear failed to converge, increase the number of iterations.\n",
            "  \"the number of iterations.\", ConvergenceWarning)\n",
            "/usr/local/lib/python3.7/dist-packages/sklearn/svm/_base.py:947: ConvergenceWarning: Liblinear failed to converge, increase the number of iterations.\n",
            "  \"the number of iterations.\", ConvergenceWarning)\n",
            "/usr/local/lib/python3.7/dist-packages/sklearn/svm/_base.py:947: ConvergenceWarning: Liblinear failed to converge, increase the number of iterations.\n",
            "  \"the number of iterations.\", ConvergenceWarning)\n",
            "/usr/local/lib/python3.7/dist-packages/sklearn/svm/_base.py:947: ConvergenceWarning: Liblinear failed to converge, increase the number of iterations.\n",
            "  \"the number of iterations.\", ConvergenceWarning)\n",
            "/usr/local/lib/python3.7/dist-packages/sklearn/svm/_base.py:947: ConvergenceWarning: Liblinear failed to converge, increase the number of iterations.\n",
            "  \"the number of iterations.\", ConvergenceWarning)\n",
            "/usr/local/lib/python3.7/dist-packages/sklearn/svm/_base.py:947: ConvergenceWarning: Liblinear failed to converge, increase the number of iterations.\n",
            "  \"the number of iterations.\", ConvergenceWarning)\n",
            "/usr/local/lib/python3.7/dist-packages/sklearn/svm/_base.py:947: ConvergenceWarning: Liblinear failed to converge, increase the number of iterations.\n",
            "  \"the number of iterations.\", ConvergenceWarning)\n",
            "/usr/local/lib/python3.7/dist-packages/sklearn/svm/_base.py:947: ConvergenceWarning: Liblinear failed to converge, increase the number of iterations.\n",
            "  \"the number of iterations.\", ConvergenceWarning)\n",
            "/usr/local/lib/python3.7/dist-packages/sklearn/svm/_base.py:947: ConvergenceWarning: Liblinear failed to converge, increase the number of iterations.\n",
            "  \"the number of iterations.\", ConvergenceWarning)\n",
            "/usr/local/lib/python3.7/dist-packages/sklearn/svm/_base.py:947: ConvergenceWarning: Liblinear failed to converge, increase the number of iterations.\n",
            "  \"the number of iterations.\", ConvergenceWarning)\n",
            "/usr/local/lib/python3.7/dist-packages/sklearn/svm/_base.py:947: ConvergenceWarning: Liblinear failed to converge, increase the number of iterations.\n",
            "  \"the number of iterations.\", ConvergenceWarning)\n"
          ],
          "name": "stderr"
        },
        {
          "output_type": "stream",
          "text": [
            "[False  True False False False False False  True False False False False\n",
            " False False False False False False False False False False False False\n",
            " False False False  True False False False]\n",
            "[22  1  5  6 19 20 11  1 14 18 21 15 13  4 10 28 23 25 26 24 29  3  8  2\n",
            "  9 17  7  1 27 12 16]\n"
          ],
          "name": "stdout"
        },
        {
          "output_type": "stream",
          "text": [
            "/usr/local/lib/python3.7/dist-packages/sklearn/svm/_base.py:947: ConvergenceWarning: Liblinear failed to converge, increase the number of iterations.\n",
            "  \"the number of iterations.\", ConvergenceWarning)\n",
            "/usr/local/lib/python3.7/dist-packages/sklearn/svm/_base.py:947: ConvergenceWarning: Liblinear failed to converge, increase the number of iterations.\n",
            "  \"the number of iterations.\", ConvergenceWarning)\n",
            "/usr/local/lib/python3.7/dist-packages/sklearn/svm/_base.py:947: ConvergenceWarning: Liblinear failed to converge, increase the number of iterations.\n",
            "  \"the number of iterations.\", ConvergenceWarning)\n",
            "/usr/local/lib/python3.7/dist-packages/sklearn/svm/_base.py:947: ConvergenceWarning: Liblinear failed to converge, increase the number of iterations.\n",
            "  \"the number of iterations.\", ConvergenceWarning)\n",
            "/usr/local/lib/python3.7/dist-packages/sklearn/svm/_base.py:947: ConvergenceWarning: Liblinear failed to converge, increase the number of iterations.\n",
            "  \"the number of iterations.\", ConvergenceWarning)\n",
            "/usr/local/lib/python3.7/dist-packages/sklearn/svm/_base.py:947: ConvergenceWarning: Liblinear failed to converge, increase the number of iterations.\n",
            "  \"the number of iterations.\", ConvergenceWarning)\n",
            "/usr/local/lib/python3.7/dist-packages/sklearn/svm/_base.py:947: ConvergenceWarning: Liblinear failed to converge, increase the number of iterations.\n",
            "  \"the number of iterations.\", ConvergenceWarning)\n",
            "/usr/local/lib/python3.7/dist-packages/sklearn/svm/_base.py:947: ConvergenceWarning: Liblinear failed to converge, increase the number of iterations.\n",
            "  \"the number of iterations.\", ConvergenceWarning)\n",
            "/usr/local/lib/python3.7/dist-packages/sklearn/svm/_base.py:947: ConvergenceWarning: Liblinear failed to converge, increase the number of iterations.\n",
            "  \"the number of iterations.\", ConvergenceWarning)\n",
            "/usr/local/lib/python3.7/dist-packages/sklearn/svm/_base.py:947: ConvergenceWarning: Liblinear failed to converge, increase the number of iterations.\n",
            "  \"the number of iterations.\", ConvergenceWarning)\n"
          ],
          "name": "stderr"
        }
      ]
    },
    {
      "cell_type": "code",
      "metadata": {
        "colab": {
          "base_uri": "https://localhost:8080/"
        },
        "id": "JgFrwH7ktS-q",
        "outputId": "1135405b-6367-4ba2-c886-89746c21062f"
      },
      "source": [
        "FEATURES = list(X_train.columns[rfe.support_])\n",
        "print('Best features :', FEATURES)"
      ],
      "execution_count": 14,
      "outputs": [
        {
          "output_type": "stream",
          "text": [
            "Best features : ['radius', 'concavity', 'concavity-w']\n"
          ],
          "name": "stdout"
        }
      ]
    },
    {
      "cell_type": "code",
      "metadata": {
        "colab": {
          "base_uri": "https://localhost:8080/"
        },
        "id": "m_j3k5yFte5K",
        "outputId": "4fdca4f3-4e52-4e25-ef97-82a6c11976d0"
      },
      "source": [
        "from sklearn.preprocessing import StandardScaler\n",
        "\n",
        "def preprocess(X):\n",
        "    #extracting chosen features\n",
        "    X = X[FEATURES]\n",
        "    #Standardizing Features\n",
        "    sc = StandardScaler()\n",
        "    X = sc.fit_transform(X)\n",
        "    return X\n",
        "\n",
        "x_train = preprocess(X_train)\n",
        "x_train"
      ],
      "execution_count": 19,
      "outputs": [
        {
          "output_type": "execute_result",
          "data": {
            "text/plain": [
              "array([[ 1.0449852 ,  0.37978142,  0.28422474],\n",
              "       [ 1.68141074,  1.35140244,  0.62678932],\n",
              "       [-1.44260855, -1.0722744 , -1.26138352],\n",
              "       ...,\n",
              "       [ 0.82638686,  0.99218954,  1.88432968],\n",
              "       [-0.05077356, -0.93583586, -1.02815536],\n",
              "       [-0.32748032, -0.79863648, -1.09666828]])"
            ]
          },
          "metadata": {
            "tags": []
          },
          "execution_count": 19
        }
      ]
    },
    {
      "cell_type": "code",
      "metadata": {
        "colab": {
          "base_uri": "https://localhost:8080/"
        },
        "id": "eU5IvSGVwURD",
        "outputId": "295e7b40-1e7e-4472-e6ac-439d0b646c46"
      },
      "source": [
        "#Support Vector Machines\n",
        "from sklearn.svm import SVC\n",
        "\n",
        "SV = SVC(probability=True, random_state=0) \n",
        "SV.fit(x_train, y_train)\n",
        "print('SVM Classifier Training Accuracy:', SV.score(x_train, y_train))"
      ],
      "execution_count": 20,
      "outputs": [
        {
          "output_type": "stream",
          "text": [
            "SVM Classifier Training Accuracy: 0.9340659340659341\n"
          ],
          "name": "stdout"
        }
      ]
    },
    {
      "cell_type": "code",
      "metadata": {
        "colab": {
          "base_uri": "https://localhost:8080/"
        },
        "id": "Pj2cLdeHwYai",
        "outputId": "df6c3091-a4c4-4b85-e4bc-3f5062fb7647"
      },
      "source": [
        "#SVM : with Hyper Parameters Tuning\n",
        "from sklearn.model_selection import GridSearchCV\n",
        "from sklearn.svm import SVC\n",
        "SV_0 = SVC(probability=True, random_state=0)\n",
        "\n",
        "params = {'C': [0.1, 1, 10, 100], \n",
        "          'gamma': [1, 0.1, 0.01, 0.001], \n",
        "          'kernel': ['rbf', 'poly', 'linear']}\n",
        "\n",
        "SV_1 = GridSearchCV(SV_0, param_grid=params, n_jobs=-1)\n",
        "SV_1.fit(x_train,y_train)\n",
        "\n",
        "print(\"Best Hyper Parameters:\\n\",SV_1.best_params_)\n",
        "\n",
        "print('SVM Classifier Training Accuracy:', SV_1.score(x_train, y_train))"
      ],
      "execution_count": 21,
      "outputs": [
        {
          "output_type": "stream",
          "text": [
            "Best Hyper Parameters:\n",
            " {'C': 0.1, 'gamma': 1, 'kernel': 'linear'}\n",
            "SVM Classifier Training Accuracy: 0.9296703296703297\n"
          ],
          "name": "stdout"
        }
      ]
    },
    {
      "cell_type": "code",
      "metadata": {
        "colab": {
          "base_uri": "https://localhost:8080/"
        },
        "id": "nTKRW754yuom",
        "outputId": "d9d799d8-6173-4faf-fdb0-1814ee336801"
      },
      "source": [
        "x_test = preprocess(X_test)\n",
        "x_test"
      ],
      "execution_count": 23,
      "outputs": [
        {
          "output_type": "execute_result",
          "data": {
            "text/plain": [
              "array([[ 2.92635643e-01,  7.69788635e-01,  2.19330547e-01],\n",
              "       [-1.97911946e-01,  4.80470185e-01,  1.01313899e+00],\n",
              "       [-2.68912255e-01, -3.08051752e-01, -2.15109667e-01],\n",
              "       [ 1.46091345e+00, -4.79234667e-02,  3.61034461e-01],\n",
              "       [ 4.34636261e-01, -4.97787824e-01, -5.23393417e-01],\n",
              "       [ 7.67046799e-01,  2.44107344e-01,  1.18494219e-01],\n",
              "       [ 1.74491469e+00,  4.37847377e-01, -2.04892770e-01],\n",
              "       [ 1.38668586e+00,  3.21603357e-01, -8.45110750e-02],\n",
              "       [-1.06605209e+00, -4.79059621e-01, -6.85975338e-01],\n",
              "       [ 2.40999055e-01, -2.12473335e-01, -6.00686461e-01],\n",
              "       [-8.85324028e-01, -7.09610261e-01, -7.36615608e-01],\n",
              "       [ 1.31271305e-01,  3.37102560e-01,  4.52542317e-01],\n",
              "       [ 7.92865093e-01,  1.41300555e+00,  1.02202325e+00],\n",
              "       [-4.59322174e-01, -7.61661750e-01, -3.50150387e-01],\n",
              "       [ 3.08772077e-01, -5.72829797e-01, -4.94963792e-01],\n",
              "       [-2.91503262e-01, -4.79834581e-01, -6.57101499e-01],\n",
              "       [-5.10958763e-01, -8.45486605e-01, -6.92194318e-01],\n",
              "       [-6.78777675e-01, -5.50355954e-01, -5.48713552e-01],\n",
              "       [-1.03700651e+00,  1.84181682e+00,  1.46801300e+00],\n",
              "       [ 2.16123468e+00,  6.48332328e-02,  1.92233560e-01],\n",
              "       [-3.30230703e-01, -7.55849549e-01, -6.53103583e-01],\n",
              "       [-7.14277829e-01, -3.94588967e-01, -7.34057526e-02],\n",
              "       [ 1.87400616e+00,  1.03456668e+00,  5.56043922e-01],\n",
              "       [-3.33457990e-01, -6.01890802e-01, -5.78475817e-01],\n",
              "       [ 3.21681224e-01,  5.33425794e-01,  1.32709032e-01],\n",
              "       [-8.01414572e-01,  8.96365457e-01,  2.09257633e+00],\n",
              "       [ 2.60362776e-01,  2.26024941e-01,  4.16116860e-01],\n",
              "       [ 1.50932276e+00,  6.21254609e-01,  1.91789347e-01],\n",
              "       [ 4.33642597e+00,  2.60515255e+00,  1.16150610e+00],\n",
              "       [ 1.04136617e+00, -2.05369534e-01, -3.52371452e-01],\n",
              "       [ 2.50978166e+00,  2.04718126e+00,  6.13791599e-01],\n",
              "       [-8.78869454e-01, -4.05955049e-01, -1.89345319e-01],\n",
              "       [ 7.57364939e-01,  1.12110390e+00,  9.14523730e-01],\n",
              "       [ 6.34982827e-02,  3.51310162e-01,  5.96911509e-01],\n",
              "       [-1.39362169e+00, -8.22496121e-01, -7.92497590e-01],\n",
              "       [ 1.05453011e-01, -8.75064250e-01, -9.74846985e-01],\n",
              "       [ 1.33827656e+00, -3.66948722e-01, -2.86627943e-01],\n",
              "       [ 2.70044636e-01, -7.02377300e-01, -8.02403538e-01],\n",
              "       [-9.14369609e-01,  2.45398944e-01,  5.76477716e-01],\n",
              "       [-6.69095814e-01, -6.11061164e-01, -5.34942953e-01],\n",
              "       [-1.44848557e+00, -6.72670495e-01, -7.66555557e-01],\n",
              "       [-9.46387691e-02, -4.89392423e-01, -1.96896938e-01],\n",
              "       [-6.56186667e-01, -2.19189656e-01, -3.41710342e-01],\n",
              "       [-1.33366210e-01, -5.78687884e-02,  2.58865494e-01],\n",
              "       [-7.20477617e-02, -8.78339136e-02, -6.58541334e-02],\n",
              "       [ 4.95954710e-01,  2.05880566e+00,  7.56828152e-01],\n",
              "       [-1.96614237e+00,  9.19568375e-02,  2.96623591e-01],\n",
              "       [-1.30422585e+00, -9.60568185e-01, -1.03099549e+00],\n",
              "       [ 2.76499210e-01, -4.32432853e-01, -1.28043939e-01],\n",
              "       [ 1.22209423e+00,  1.72423531e-01, -1.04944868e-01],\n",
              "       [ 1.36409485e+00,  4.08140572e-01, -8.05131590e-02],\n",
              "       [ 1.35764028e+00,  2.77306058e+00,  1.95176084e+00],\n",
              "       [-3.72185431e-01,  2.72522549e-01, -2.26214989e-01],\n",
              "       [-3.88321865e-01, -1.07900792e+00, -1.18580813e+00],\n",
              "       [-1.30422585e+00, -9.87640125e-01, -1.11797238e+00],\n",
              "       [ 3.76799885e-02, -8.15779799e-01, -5.95800120e-01],\n",
              "       [-2.81821402e-01, -6.02794923e-01, -4.26999219e-01],\n",
              "       [ 1.62227779e+00, -6.71683100e-02, -2.28880267e-01],\n",
              "       [-3.97748940e-02, -5.54230754e-01, -6.94078365e-02],\n",
              "       [-1.13705240e+00, -5.40152312e-01, -4.18559174e-01],\n",
              "       [-9.30506043e-01, -1.06312124e+00, -1.12823370e+00],\n",
              "       [-4.27049307e-01,  1.83277562e+00,  3.69796174e+00],\n",
              "       [ 3.76545100e-01,  6.58665130e-02, -1.00058526e-01],\n",
              "       [-1.65639078e-01, -6.81840856e-01, -6.10903358e-01],\n",
              "       [-1.88230085e-01, -5.42993832e-01, -1.89789532e-01],\n",
              "       [-5.94868219e-01, -2.53933702e-01, -1.60027268e-01],\n",
              "       [-5.23867910e-01, -7.26401064e-01, -4.90965876e-01],\n",
              "       [ 2.17091654e+00,  9.04115058e-01,  6.31115902e-01],\n",
              "       [-4.78685895e-01, -6.06540563e-01, -5.78475817e-01],\n",
              "       [-6.40050233e-01, -7.34538145e-01, -5.66926281e-01],\n",
              "       [-3.14094270e-01, -9.84294881e-01, -1.08807685e+00],\n",
              "       [-3.23776130e-01, -6.31210128e-01, -7.49053569e-01],\n",
              "       [-1.10775203e-01, -7.01344020e-01, -2.84406879e-01],\n",
              "       [ 2.06441608e+00,  1.65195159e+00,  1.14729129e+00],\n",
              "       [-1.58306343e+00, -4.93267224e-01, -7.91209373e-01],\n",
              "       [ 6.05682460e-01,  2.99909062e+00,  1.53508915e+00],\n",
              "       [ 3.89454247e-01, -7.93305956e-01, -1.10406852e+00],\n",
              "       [-3.27003417e-01, -4.94558824e-01, -2.43539292e-01],\n",
              "       [-7.49777984e-01, -6.71120574e-01, -6.65985757e-01],\n",
              "       [ 7.57364939e-01,  6.45795013e-01,  1.13218805e+00],\n",
              "       [-7.98187285e-01, -6.23977166e-01, -5.69147346e-01],\n",
              "       [ 1.05750261e+00,  8.44701448e-01,  5.30723787e-01],\n",
              "       [-9.14114823e-02, -1.06740935e+00, -1.14933381e+00],\n",
              "       [ 8.28365247e-01,  1.23605632e+00,  1.93754603e+00],\n",
              "       [-2.72139542e-01, -6.77320256e-01, -4.06565425e-01],\n",
              "       [-7.65914417e-01, -6.49421691e-01, -2.76855259e-01],\n",
              "       [ 1.18616944e-02,  6.49669814e-01,  2.91293036e-01],\n",
              "       [-5.26840411e-02, -7.18909783e-01, -7.44611440e-01],\n",
              "       [ 1.50635026e-01,  1.65453479e+00,  1.86425090e+00],\n",
              "       [-6.69095814e-01, -5.85616640e-01, -7.27731350e-01],\n",
              "       [-1.85002799e-01, -7.45000107e-01, -5.93134842e-01],\n",
              "       [-6.27141086e-01,  4.70137383e-01,  1.87935414e+00],\n",
              "       [-1.12737054e+00, -3.28200715e-01, -3.22164975e-01],\n",
              "       [-1.03700651e+00, -8.45615765e-01, -1.03352751e+00],\n",
              "       [ 1.33182198e+00,  3.01588142e+00,  2.80242854e+00],\n",
              "       [-4.30276593e-01,  9.35113463e-01,  1.16816929e+00],\n",
              "       [-1.66697288e+00, -8.36832883e-01, -6.91750105e-01],\n",
              "       [-3.65730858e-01, -6.75557901e-02,  3.80579828e-01],\n",
              "       [-7.78823565e-01, -7.93176796e-01, -8.76142879e-01],\n",
              "       [-5.56140777e-01, -1.00603251e+00, -1.01042844e+00],\n",
              "       [-6.82004961e-01, -5.60559595e-01,  1.45484010e-02],\n",
              "       [-7.04595969e-01, -8.48069805e-01, -8.89025053e-01],\n",
              "       [-1.21127999e+00, -1.07112916e+00, -1.15573048e+00],\n",
              "       [ 3.15226651e-01, -5.07862306e-01, -2.55088827e-01],\n",
              "       [ 1.99044327e-01, -6.54071452e-01, -5.56709385e-01],\n",
              "       [ 3.82999673e-01, -8.51557126e-01, -8.66325774e-01],\n",
              "       [-9.43415190e-01, -1.10303169e+00, -1.21059077e+00],\n",
              "       [-4.27473950e-03, -9.65734585e-01, -1.04481052e+00],\n",
              "       [ 1.34473113e+00, -1.61067646e-01, -2.11555964e-01],\n",
              "       [ 5.41136725e-01,  1.52149996e+00,  1.37917042e+00],\n",
              "       [-7.62687131e-01,  2.01489125e+00,  1.84070762e+00],\n",
              "       [-1.53433140e+00,  2.93967701e+00,  4.35095470e+00],\n",
              "       [ 2.40999055e-01,  3.57722278e-02,  4.68089769e-01],\n",
              "       [-1.04745272e-03, -9.66767866e-01, -1.05436109e+00]])"
            ]
          },
          "metadata": {
            "tags": []
          },
          "execution_count": 23
        }
      ]
    },
    {
      "cell_type": "code",
      "metadata": {
        "id": "x4CAIqa8y1l0"
      },
      "source": [
        "y_pred = pd.DataFrame(SV_1.predict(x_test), columns=['diagnosis'])"
      ],
      "execution_count": 24,
      "outputs": []
    },
    {
      "cell_type": "code",
      "metadata": {
        "colab": {
          "base_uri": "https://localhost:8080/",
          "height": 298
        },
        "id": "kf28prNty77q",
        "outputId": "60645b6e-04de-4131-ea50-f989a9c5c2d5"
      },
      "source": [
        "import seaborn as sns\n",
        "from sklearn.metrics import classification_report,confusion_matrix,roc_curve\n",
        "from sklearn.metrics import roc_auc_score\n",
        "y_pred = pd.DataFrame(SV_1.predict(x_test), columns=['diagnosis'])\n",
        "cm=confusion_matrix(y_test,y_pred)\n",
        "sns.heatmap(cm,annot=True,xticklabels=['Benign','Malignant'],yticklabels=['Benign','Malignant'])\n",
        "plt.title('Confusion matrix')"
      ],
      "execution_count": 26,
      "outputs": [
        {
          "output_type": "execute_result",
          "data": {
            "text/plain": [
              "Text(0.5, 1.0, 'Confusion matrix')"
            ]
          },
          "metadata": {
            "tags": []
          },
          "execution_count": 26
        },
        {
          "output_type": "display_data",
          "data": {
            "image/png": "[encoded data removed]",
            "text/plain": [
              "<Figure size 432x288 with 2 Axes>"
            ]
          },
          "metadata": {
            "tags": [],
            "needs_background": "light"
          }
        }
      ]
    },
    {
      "cell_type": "code",
      "metadata": {
        "colab": {
          "base_uri": "https://localhost:8080/"
        },
        "id": "qzxYG462zQma",
        "outputId": "05e14176-324e-4796-9949-221954c4be92"
      },
      "source": [
        "# Model Accuracy, how often is the classifier correct?\n",
        "from sklearn import metrics\n",
        "print(\"Accuracy:\",metrics.accuracy_score(y_test, y_pred)*100)"
      ],
      "execution_count": 28,
      "outputs": [
        {
          "output_type": "stream",
          "text": [
            "Accuracy: 90.35087719298247\n"
          ],
          "name": "stdout"
        }
      ]
    },
    {
      "cell_type": "code",
      "metadata": {
        "colab": {
          "base_uri": "https://localhost:8080/"
        },
        "id": "1HBPKv0_z0uC",
        "outputId": "8efb1035-3296-4273-c54f-fdd9c834f5e2"
      },
      "source": [
        "from sklearn.metrics import confusion_matrix\n",
        "from sklearn.metrics import classification_report\n",
        "confusion_matrix(y_test,y_pred )\n",
        "dt_report = (classification_report(y_test,y_pred))\n",
        "print(dt_report)"
      ],
      "execution_count": 29,
      "outputs": [
        {
          "output_type": "stream",
          "text": [
            "              precision    recall  f1-score   support\n",
            "\n",
            "           0       0.93      0.92      0.92        72\n",
            "           1       0.86      0.88      0.87        42\n",
            "\n",
            "    accuracy                           0.90       114\n",
            "   macro avg       0.90      0.90      0.90       114\n",
            "weighted avg       0.90      0.90      0.90       114\n",
            "\n"
          ],
          "name": "stdout"
        }
      ]
    },
    {
      "cell_type": "code",
      "metadata": {
        "id": "w3msqqQb0AeV"
      },
      "source": [
        ""
      ],
      "execution_count": null,
      "outputs": []
    }
  ]
}